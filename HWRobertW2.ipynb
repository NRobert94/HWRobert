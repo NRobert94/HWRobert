{
 "metadata": {
  "language_info": {
   "codemirror_mode": {
    "name": "ipython",
    "version": 3
   },
   "file_extension": ".py",
   "mimetype": "text/x-python",
   "name": "python",
   "nbconvert_exporter": "python",
   "pygments_lexer": "ipython3",
   "version": "3.9.4"
  },
  "orig_nbformat": 2,
  "kernelspec": {
   "name": "python394jvsc74a57bd04ce0e62306dd6a5716965d4519ada776f947e6dfc145b604b11307c10277ef29",
   "display_name": "Python 3.9.4 64-bit"
  },
  "metadata": {
   "interpreter": {
    "hash": "4ce0e62306dd6a5716965d4519ada776f947e6dfc145b604b11307c10277ef29"
   }
  }
 },
 "nbformat": 4,
 "nbformat_minor": 2,
 "cells": [
  {
   "cell_type": "code",
   "execution_count": 7,
   "metadata": {},
   "outputs": [
    {
     "output_type": "stream",
     "name": "stdout",
     "text": [
      "Dose 3ml\n"
     ]
    }
   ],
   "source": [
    "#Task 1\n",
    "\n",
    "nitrate = int(input(\"Enter the nitrate level number between 1 and 50\"))\n",
    "if nitrate > 10:\n",
    "    print(\"Dose 3ml\")\n",
    "\n",
    "elif nitrate > 2.5:\n",
    "    print(\"Dose 2ml\")\n",
    "elif nitrate > 1:\n",
    "    print (\"Dose 1ml\")\n",
    "else:\n",
    "    print (\"Dose 0.5ml\")"
   ]
  },
  {
   "cell_type": "code",
   "execution_count": null,
   "metadata": {},
   "outputs": [],
   "source": [
    "#Task 2 first solution\n",
    "\n",
    "motorbike = 2000\n",
    "while motorbike > 1000:\n",
    "    print (motorbike)\n",
    "    motorbike = motorbike*0.9\n",
    "\n",
    "#Task 2 second solution\n",
    "\n",
    "def func_dep_calc2(initial_year,initial_cost): \n",
    "    multiplier = 0.9\n",
    "    while initial_cost > 1000:\n",
    "        initial_cost = initial_cost * multiplier\n",
    "        initial_year += 1\n",
    "      \n",
    "        print(\"Year\", initial_year, \"the value of the motorbike is\", \"%.2f\" % initial_cost, \"at a depreciate rate of 10% from the original value.\")\n",
    "\n",
    "Year = int(input(\"Enter asset purchase year\")) \n",
    "cost = float(input(\"Enter initial cost\"))\n",
    "func_dep_calc2(initial_year=Year, initial_cost=cost)\n",
    "\n",
    "  "
   ]
  },
  {
   "cell_type": "code",
   "execution_count": null,
   "metadata": {},
   "outputs": [],
   "source": [
    "#Task 3\n",
    "\n",
    "def add(a,b):\n",
    "    result = a+b\n",
    "    print (result)\n",
    "\n",
    "def sub(a,b):\n",
    "    result = a-b\n",
    "    print (result)\n",
    "\n",
    "def mul(a,b):\n",
    "    result = a*b\n",
    "    print (result)\n",
    "\n",
    "def div(a,b):\n",
    "    result = a/b\n",
    "    print (result)\n",
    "\n",
    "def pow(a,b):\n",
    "    result = a**b\n",
    "    print (result)\n",
    "\n",
    "a=int(input(\"Enter the first number: \"))\n",
    "b=int(input(\"Enter the second number: \"))\n",
    "op=input(\"Enter the operator: \")\n",
    "\n",
    "if op==\"+\":\n",
    "    add(a,b)\n",
    "\n",
    "elif op==\"-\":\n",
    "    sub(a,b)\n",
    "\n",
    "elif op==\"*\":\n",
    "    mul(a,b)\n",
    "\n",
    "elif op==\"/\":\n",
    "    div(a,b)\n",
    "\n",
    "elif op==\"**\":\n",
    "    pow(a,b)\n",
    "\n",
    "else:\n",
    "    print (\"Invalid Operation\")\n"
   ]
  }
 ]
}