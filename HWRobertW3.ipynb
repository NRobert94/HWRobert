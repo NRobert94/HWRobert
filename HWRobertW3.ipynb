#Task 1
# Write a program that allows you to enter 4 numbers and stores them in a file called “Numbers”


myFile = open("Numbers.txt","w")

myFile.close()

num1 = input("Enter your first number")
num2 = input("Enter your second number")
num3 = input("Enter your third number")
num4 = input("Enter your fourth number")

myFile = open("numbers.txt","w")
myFile.write(f"{num1}\n")
myFile.write(f"{num2}\n")
myFile.write(f"{num3}\n")
myFile.write(f"{num4}\n")
myFile.close()

#Task 2
# Write a program to ask a student for their percentage mark and convert this to a grade. The conversion will be done in a function called mark_grade


def floatchecker(nb): 
    try:
        mynum=float(nb)
        return mynum 
    except:
        return None

def mark_grade(percnt):
    grades = [("A", 80), ("B", 65), ("C", 50), ("D", 40), ("E", 30), ("U", 0)]
    for mrk in grades: 
        if percnt >= mrk[1]: 
            print(f"Your percentage of {percnt:.1f}%, converts to grade {mrk[0]}")
            break

print("Grade Conversion Tool")

while True: 
    stugrade = input("Enter your percentage mark") 
    mynum1 = floatchecker(stugrade)

    if mynum1 != None and mynum1 in range (0,101):
        mymark=mark_grade(mynum1)
      
        break
    else:
        print("incorrect input. try again.")

#Task 3
#Create a 1D array of numbers from 0 to 9


import numpy as np

array=np.array([0,1,2,3,4,5,6,7,8,9])
print(array)

array1=np.arange(10) #evenly spaced array
print(array1)

#Task 4
#Create a 3×3 NumPy array of all Boolean value Trues


true3x3 = np.full((3,3), True, dtype=bool)
print(true3x3,'\n')

#Task 5
#Extract all odd numbers from array of 1-10


t3array = np.arange(1, 10) 
print(t3array[t3array%2==1])

#Task 6
#Replace all odd numbers in an array of 1-10 with the value -1


t4array = np.arange(1, 10)  

t4array[t4array%2==1] = -1   #after dividing by 2 if there is a remainder they will now equal -1          
print (t4array)

#Task 7
#Convert a 1D array to a 2D array with 2 rows


array1Dto2D = np.arange(0,6).reshape(2,3)
print(array1Dto2D)

#Task 8
#Create two arrays a and b, stack these two arrays vertically use the np.dot and np.sum to calculate totals


a=np.arange(1,11)
b=np.arange(1,11)
print(a,b)

stackedab = np.vstack((a,b))
print(stackedab)

arraysum = np.sum(stackedab)
print(arraysum)

arraydot = np.dot(a,b)
print(arraydot)

#Task 9
# Create the following pattern without hardcoding. Use only NumPy functions. array([1,1,1,2,2,2,3,3,3,1,2,3,1,2,3,1,2,3])


np.concatenate((np.ones(3),np.ones(3)*2,np.ones(3)*3,np.arange(1,4),np.arange(1,4),np.arange(1,4)))

#Task 10
# In two arrays a ( 1,2,3,4,5) and b ( 4,5,6,7,8,9) – remove all repeating items present in array b


a = np.arange(1,6)
b = np.arange(4,10)
b2 = np.setdiff1d(b,a)
print(b2)

#Task 11
#Get all items between 3 and 7 from a and b and sum themtogether


conc_ab= np.concatenate((a,b))

print(conc_ab)

conc_ab = conc_ab[conc_ab>=3]
